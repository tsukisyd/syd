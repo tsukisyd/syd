{
 "cells": [
  {
   "cell_type": "code",
   "execution_count": 1,
   "metadata": {},
   "outputs": [],
   "source": [
    "import pandas as pd\n",
    "import mytools"
   ]
  },
  {
   "cell_type": "code",
   "execution_count": 2,
   "metadata": {},
   "outputs": [
    {
     "ename": "AttributeError",
     "evalue": "module 'mytools' has no attribute '读取SPSS数据文件'",
     "output_type": "error",
     "traceback": [
      "\u001b[1;31m---------------------------------------------------------------------------\u001b[0m",
      "\u001b[1;31mAttributeError\u001b[0m                            Traceback (most recent call last)",
      "\u001b[1;32mc:\\Users\\sunyuedan\\Desktop\\syd\\16-多变量.ipynb 单元格 2\u001b[0m line \u001b[0;36m1\n\u001b[1;32m----> <a href='vscode-notebook-cell:/c%3A/Users/sunyuedan/Desktop/syd/16-%E5%A4%9A%E5%8F%98%E9%87%8F.ipynb#W1sZmlsZQ%3D%3D?line=0'>1</a>\u001b[0m 数据表 \u001b[39m=\u001b[39m mytools\u001b[39m.\u001b[39;49m读取SPSS数据文件(\u001b[39mR\u001b[39m\u001b[39m'\u001b[39m\u001b[39m'\u001b[39m)\n",
      "\u001b[1;31mAttributeError\u001b[0m: module 'mytools' has no attribute '读取SPSS数据文件'"
     ]
    }
   ],
   "source": [
    "数据表 = mytools.读取SPSS数据文件(R'')"
   ]
  },
  {
   "cell_type": "code",
   "execution_count": 3,
   "metadata": {},
   "outputs": [
    {
     "ename": "NameError",
     "evalue": "name '数据表' is not defined",
     "output_type": "error",
     "traceback": [
      "\u001b[1;31m---------------------------------------------------------------------------\u001b[0m",
      "\u001b[1;31mNameError\u001b[0m                                 Traceback (most recent call last)",
      "\u001b[1;32mc:\\Users\\sunyuedan\\Desktop\\syd\\16-多变量.ipynb 单元格 3\u001b[0m line \u001b[0;36m2\n\u001b[0;32m      <a href='vscode-notebook-cell:/c%3A/Users/sunyuedan/Desktop/syd/16-%E5%A4%9A%E5%8F%98%E9%87%8F.ipynb#W2sZmlsZQ%3D%3D?line=0'>1</a>\u001b[0m \u001b[39m# 创建民族、年级和政治面貌的交互表\u001b[39;00m\n\u001b[1;32m----> <a href='vscode-notebook-cell:/c%3A/Users/sunyuedan/Desktop/syd/16-%E5%A4%9A%E5%8F%98%E9%87%8F.ipynb#W2sZmlsZQ%3D%3D?line=1'>2</a>\u001b[0m cross_tab \u001b[39m=\u001b[39m pd\u001b[39m.\u001b[39mcrosstab(index\u001b[39m=\u001b[39m[数据表[\u001b[39m'\u001b[39m\u001b[39m年级\u001b[39m\u001b[39m'\u001b[39m],数据表[\u001b[39m'\u001b[39m\u001b[39m回答多少分\u001b[39m\u001b[39m'\u001b[39m]],\n\u001b[0;32m      <a href='vscode-notebook-cell:/c%3A/Users/sunyuedan/Desktop/syd/16-%E5%A4%9A%E5%8F%98%E9%87%8F.ipynb#W2sZmlsZQ%3D%3D?line=2'>3</a>\u001b[0m                         columns\u001b[39m=\u001b[39m数据表[\u001b[39m'\u001b[39m\u001b[39m政治面貌\u001b[39m\u001b[39m'\u001b[39m],\n\u001b[0;32m      <a href='vscode-notebook-cell:/c%3A/Users/sunyuedan/Desktop/syd/16-%E5%A4%9A%E5%8F%98%E9%87%8F.ipynb#W2sZmlsZQ%3D%3D?line=3'>4</a>\u001b[0m                         margins\u001b[39m=\u001b[39m\u001b[39mTrue\u001b[39;00m,normalize\u001b[39m=\u001b[39m\u001b[39mTrue\u001b[39;00m) \n",
      "\u001b[1;31mNameError\u001b[0m: name '数据表' is not defined"
     ]
    }
   ],
   "source": [
    "# 创建民族、年级和政治面貌的交互表\n",
    "cross_tab = pd.crosstab(index=[数据表['年级'],数据表['回答多少分']],\n",
    "                        columns=数据表['政治面貌'],\n",
    "                        margins=True,normalize=True)  #All 行和列的总和\n",
    "cross_tab"
   ]
  },
  {
   "cell_type": "code",
   "execution_count": null,
   "metadata": {},
   "outputs": [],
   "source": [
    "from scipy import stats\n",
    "# 假设我们关注的是第二年级的学生（假设年级用数字“2”表示）\n",
    "specific_grade = '大二'\n",
    "\n",
    "# 筛选出特定年级的数据\n",
    "df_specific_grade = 数据表[数据表['年级'] == specific_grade]\n",
    "\n",
    "# 创建民族和政治面貌的交互表\n",
    "cross_tab_specific_grade = pd.crosstab(df_specific_grade['民族'], df_specific_grade['政治面貌'])\n",
    "\n",
    "# 进行卡方检验\n",
    "chi2_grade, p_grade, dof_grade, expected_grade = stats.chi2_contingency(cross_tab_specific_grade)\n",
    "\n",
    "chi2_grade, p_grade, dof_grade,"
   ]
  },
  {
   "cell_type": "code",
   "execution_count": 4,
   "metadata": {},
   "outputs": [
    {
     "ename": "AttributeError",
     "evalue": "module 'mytools' has no attribute '两个无序类别变量的统计分析'",
     "output_type": "error",
     "traceback": [
      "\u001b[1;31m---------------------------------------------------------------------------\u001b[0m",
      "\u001b[1;31mAttributeError\u001b[0m                            Traceback (most recent call last)",
      "\u001b[1;32mc:\\Users\\sunyuedan\\Desktop\\syd\\16-多变量.ipynb 单元格 5\u001b[0m line \u001b[0;36m1\n\u001b[1;32m----> <a href='vscode-notebook-cell:/c%3A/Users/sunyuedan/Desktop/syd/16-%E5%A4%9A%E5%8F%98%E9%87%8F.ipynb#W4sZmlsZQ%3D%3D?line=0'>1</a>\u001b[0m mytools\u001b[39m.\u001b[39;49m两个无序类别变量的统计分析(df_specific_grade,\u001b[39m'\u001b[39m\u001b[39m政治面貌\u001b[39m\u001b[39m'\u001b[39m,\u001b[39m'\u001b[39m\u001b[39m会打多少分\u001b[39m\u001b[39m'\u001b[39m)\n",
      "\u001b[1;31mAttributeError\u001b[0m: module 'mytools' has no attribute '两个无序类别变量的统计分析'"
     ]
    }
   ],
   "source": [
    "mytools.两个无序类别变量的统计分析(df_specific_grade,'政治面貌','会打多少分')"
   ]
  }
 ],
 "metadata": {
  "kernelspec": {
   "display_name": "Python 3",
   "language": "python",
   "name": "python3"
  },
  "language_info": {
   "codemirror_mode": {
    "name": "ipython",
    "version": 3
   },
   "file_extension": ".py",
   "mimetype": "text/x-python",
   "name": "python",
   "nbconvert_exporter": "python",
   "pygments_lexer": "ipython3",
   "version": "3.10.11"
  }
 },
 "nbformat": 4,
 "nbformat_minor": 2
}
