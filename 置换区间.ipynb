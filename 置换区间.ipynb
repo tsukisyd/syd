{
 "cells": [
  {
   "cell_type": "code",
   "execution_count": 3,
   "metadata": {},
   "outputs": [],
   "source": [
    "import pandas as pd\n",
    "from scipy import stats\n",
    "\n",
    "#打开数据文件\n",
    "file_path = R'data\\movie_data_cleaned (1).csv'\n",
    "df_moive = pd.read_csv(file_path)"
   ]
  },
  {
   "cell_type": "code",
   "execution_count": 4,
   "metadata": {},
   "outputs": [],
   "source": [
    "#  使用sample函数实现随机抽取\n",
    "随机抽取100行得到的表 = df_moive.sample(100)"
   ]
  },
  {
   "cell_type": "code",
   "execution_count": 5,
   "metadata": {},
   "outputs": [
    {
     "name": "stdout",
     "output_type": "stream",
     "text": [
      "均值： 7.29\n",
      "均值在置信水平0.95下的置信区间为:  (7.0703949677624545, 7.499605032237546)\n"
     ]
    }
   ],
   "source": [
    "# 再计算抽取样本的均值和置信区间\n",
    "mean = 随机抽取100行得到的表['average'].mean()\n",
    "std_error = stats.sem(随机抽取100行得到的表['average'])\n",
    "# 设置置信水平\n",
    "confidence_level = 0.95\n",
    "# 设置自由度\n",
    "df = len(随机抽取100行得到的表['average']) - 1\n",
    "# 计算置信区间\n",
    "confidence_interval = stats.t.interval(confidence_level, df, loc=mean,\n",
    "scale=std_error)\n",
    "# 输出结果\n",
    "print(F\"均值：{mean: .2f}\")\n",
    "print(F\"均值在置信水平{confidence_level}下的置信区间为: \", confidence_interval)"
   ]
  }
 ],
 "metadata": {
  "kernelspec": {
   "display_name": "Python 3",
   "language": "python",
   "name": "python3"
  },
  "language_info": {
   "codemirror_mode": {
    "name": "ipython",
    "version": 3
   },
   "file_extension": ".py",
   "mimetype": "text/x-python",
   "name": "python",
   "nbconvert_exporter": "python",
   "pygments_lexer": "ipython3",
   "version": "3.10.11"
  }
 },
 "nbformat": 4,
 "nbformat_minor": 2
}
