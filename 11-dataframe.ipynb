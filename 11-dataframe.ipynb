{
 "cells": [
  {
   "cell_type": "code",
   "execution_count": 14,
   "metadata": {},
   "outputs": [],
   "source": [
    "import pandas as pd\n",
    "from scipy import stats\n",
    "\n",
    "#打开数据文件\n",
    "file_path = R'data\\movie_data_cleaned (1).csv'\n",
    "df_moive = pd.read_csv(file_path)"
   ]
  },
  {
   "cell_type": "code",
   "execution_count": 15,
   "metadata": {},
   "outputs": [],
   "source": [
    "#使用sample函数实现随机抽取\n",
    "随机抽取100行得到的表 = df_moive.sample(100)"
   ]
  },
  {
   "cell_type": "code",
   "execution_count": 16,
   "metadata": {},
   "outputs": [
    {
     "name": "stdout",
     "output_type": "stream",
     "text": [
      "均值:7.20\n",
      "均值在置信水平0.95下的置信区间为: (7.171337577138237, 7.2214184794700635)\n"
     ]
    }
   ],
   "source": [
    "#计算平均值和标准误\n",
    "mean = df_moive['average'].mean()\n",
    "std_error = stats.sem(df_moive['average'])\n",
    "#设置置信水平\n",
    "confidence_level = 0.95\n",
    "#设置自由度\n",
    "df = len(df_moive['average']) - 1\n",
    "#设置置信区间\n",
    "confidence_interval = stats.t.interval(confidence_level,df,loc=mean,\n",
    "scale=std_error)\n",
    "#输出结果\n",
    "print(F\"均值:{mean:.2f}\")\n",
    "print(F\"均值在置信水平{confidence_level}下的置信区间为:\",confidence_interval)\n"
   ]
  },
  {
   "cell_type": "code",
   "execution_count": 17,
   "metadata": {},
   "outputs": [
    {
     "name": "stdout",
     "output_type": "stream",
     "text": [
      "     A    B    C\n",
      "35  36  136  236\n",
      "13  14  114  214\n",
      "82  83  183  283\n",
      "38  39  139  239\n",
      "37  38  138  238\n",
      "..  ..  ...  ...\n",
      "23  24  124  224\n",
      "92  93  193  293\n",
      "85  86  186  286\n",
      "17  18  118  218\n",
      "98  99  199  299\n",
      "\n",
      "[100 rows x 3 columns]\n"
     ]
    }
   ],
   "source": [
    "import pandas as pd\n",
    "\n",
    "# 假设我们有一个名为df的DataFrame\n",
    "df = pd.DataFrame({\n",
    "    'A': range(1, 101),\n",
    "    'B': range(101, 201),\n",
    "    'C': range(201, 301)\n",
    "})\n",
    "\n",
    "# 我们可以使用sample()函数随机抽取100行数据\n",
    "sample_df = df.sample(n=100)\n",
    "\n",
    "print(sample_df)\n"
   ]
  },
  {
   "cell_type": "code",
   "execution_count": null,
   "metadata": {},
   "outputs": [],
   "source": []
  }
 ],
 "metadata": {
  "kernelspec": {
   "display_name": "Python 3",
   "language": "python",
   "name": "python3"
  },
  "language_info": {
   "codemirror_mode": {
    "name": "ipython",
    "version": 3
   },
   "file_extension": ".py",
   "mimetype": "text/x-python",
   "name": "python",
   "nbconvert_exporter": "python",
   "pygments_lexer": "ipython3",
   "version": "3.10.11"
  }
 },
 "nbformat": 4,
 "nbformat_minor": 2
}
