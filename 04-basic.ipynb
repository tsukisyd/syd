{
 "cells": [
  {
   "cell_type": "code",
   "execution_count": 1,
   "metadata": {},
   "outputs": [],
   "source": [
    "students = [\n",
    "    {\"学号\": \"20230001\", \"姓名\": \"张三\", \"github仓库地址\": \"https://github.com/zhangsan\"},\n",
    "    {\"学号\": \"20230002\", \"姓名\": \"李四\", \"github仓库地址\": \"https://github.com/lisi\"},\n",
    "    {\"学号\": \"20230003\", \"姓名\": \"王五\", \"github仓库地址\": \"https://github.com/wangwu\"},\n",
    "    {\"学号\": \"20230004\", \"姓名\": \"赵六\", \"github仓库地址\": \"https://github.com/zhaoliu\"},\n",
    "    {\"学号\": \"20230005\", \"姓名\": \"孙七\", \"github仓库地址\": \"https://github.com/sunqi\"},\n",
    "    {\"学号\": \"20230006\", \"姓名\": \"周八\", \"github仓库地址\": \"https://github.com/zhouba\"},\n",
    "    {\"学号\": \"20230007\", \"姓名\": \"吴九\", \"github仓库地址\": \"https://github.com/wujiu\"},\n",
    "    {\"学号\": \"20230008\", \"姓名\": \"郑十\", \"github仓库地址\": \"https://github.com/zhengshi\"},\n",
    "    {\"学号\": \"20230009\", \"姓名\": \"陈十一\", \"github仓库地址\": \"https://github.com/chenshiyi\"},\n",
    "    {\"学号\": \"20230010\", \"姓名\": \"林十二\", \"github仓库地址\": \"https://github.com/linshier\"},\n",
    "]\n",
    "\n",
    "# 指定要搜索的姓名\n",
    "target_name = \"lisi\""
   ]
  },
  {
   "cell_type": "code",
   "execution_count": 2,
   "metadata": {},
   "outputs": [],
   "source": [
    "def get_repo_by_name(name, data):\n",
    "    for i in data:\n",
    "        if i[\"lisi\"]:\n",
    "            print(i[\"github仓库地址\"])"
   ]
  },
  {
   "cell_type": "code",
   "execution_count": 4,
   "metadata": {},
   "outputs": [
    {
     "ename": "KeyError",
     "evalue": "'lisi'",
     "output_type": "error",
     "traceback": [
      "\u001b[1;31m---------------------------------------------------------------------------\u001b[0m",
      "\u001b[1;31mKeyError\u001b[0m                                  Traceback (most recent call last)",
      "Cell \u001b[1;32mIn[4], line 1\u001b[0m\n\u001b[1;32m----> 1\u001b[0m get_repo_by_name(\u001b[39m'\u001b[39;49m\u001b[39mlisi\u001b[39;49m\u001b[39m'\u001b[39;49m, students)\n",
      "Cell \u001b[1;32mIn[2], line 3\u001b[0m, in \u001b[0;36mget_repo_by_name\u001b[1;34m(name, data)\u001b[0m\n\u001b[0;32m      1\u001b[0m \u001b[39mdef\u001b[39;00m \u001b[39mget_repo_by_name\u001b[39m(name, data):\n\u001b[0;32m      2\u001b[0m     \u001b[39mfor\u001b[39;00m i \u001b[39min\u001b[39;00m data:\n\u001b[1;32m----> 3\u001b[0m         \u001b[39mif\u001b[39;00m i[\u001b[39m\"\u001b[39;49m\u001b[39mlisi\u001b[39;49m\u001b[39m\"\u001b[39;49m]:\n\u001b[0;32m      4\u001b[0m             \u001b[39mprint\u001b[39m(i[\u001b[39m\"\u001b[39m\u001b[39mgithub仓库地址\u001b[39m\u001b[39m\"\u001b[39m])\n",
      "\u001b[1;31mKeyError\u001b[0m: 'lisi'"
     ]
    }
   ],
   "source": [
    "get_repo_by_name('lisi', students)"
   ]
  }
 ],
 "metadata": {
  "kernelspec": {
   "display_name": "Python 3",
   "language": "python",
   "name": "python3"
  },
  "language_info": {
   "codemirror_mode": {
    "name": "ipython",
    "version": 3
   },
   "file_extension": ".py",
   "mimetype": "text/x-python",
   "name": "python",
   "nbconvert_exporter": "python",
   "pygments_lexer": "ipython3",
   "version": "3.10.11"
  },
  "orig_nbformat": 4
 },
 "nbformat": 4,
 "nbformat_minor": 2
}
