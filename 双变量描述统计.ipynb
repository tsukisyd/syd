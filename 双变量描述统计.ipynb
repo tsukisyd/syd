{
 "cells": [
  {
   "cell_type": "code",
   "execution_count": 1,
   "metadata": {},
   "outputs": [],
   "source": [
    "import mytools\n",
    "import pandas as pd"
   ]
  },
  {
   "cell_type": "code",
   "execution_count": 2,
   "metadata": {},
   "outputs": [],
   "source": [
    "数据表 = pd.read_excel(R'C:\\Users\\sunyuedan\\Desktop\\syd\\data\\AI作品态度.xlsx')"
   ]
  },
  {
   "cell_type": "code",
   "execution_count": 3,
   "metadata": {},
   "outputs": [
    {
     "data": {
      "text/plain": [
       "Index(['序号', '提交答卷时间', '所用时间', '来源', '来源详情', '来自IP', '1、Al作品与人类作品您认为是否有区别?',\n",
       "       '2、请问以下哪个图是AI绘图形成：', '3、以下哪张图是传统绘画作品', '喜欢绘画的程度', '5、你是否了解AI(创作）？',\n",
       "       '6、如果你会使用AI绘图，你是否想要将其应用到你的生活和工作之中？',\n",
       "       '7、假如你是AI绘画研发人员，在AI绘画推广过程中，你更看重？(多选)', '8、请问你认为借助AI创作出的作品可以被称为艺术品吗?',\n",
       "       '9、当您作为观看者时，请问您更喜欢观赏传统及现有绘画艺术作品还是AI(绘画)艺术作品?',\n",
       "       '10、在今年美国科罗拉多轴博览会艺术比赛中的数字类别中，39岁游戏设计师JasonAllen的作品夺得头奖。这副画作是他使用AI绘图工具完成的，这引来了不少来自人类艺术家的指责。如果是你，你会支持JasonAllen吗?',\n",
       "       '11、“Al的产生到底是为了方便人的生产激发人的创造力，还是要践踏无数艺术家的创造力扶摇直上。”这句话你怎么看?',\n",
       "       '12、你认为AI的发展会对绘画行业造成多大影响', '13、面对某一件事情，你更在乎过程还是结果？',\n",
       "       '14、对某一件事情的看法，你认为你更多的是出于理性还是感性？', '15、你认为事实和立场，哪个更重要？',\n",
       "       '16、AI绘画提供了更多创意，促进了艺术领域的繁荣',\n",
       "       '17、市面上有各种各样的绘画材料，甚至价格不菲，而通过AI软件绘画则不需要购买这些材料。我认为，在未来AI的发展会打击绘画材料的市场',\n",
       "       '18、越来越多的公司要求设计作品用电脑软件来完成，在未来商业上，我认为AI作品会取代手绘作品',\n",
       "       '19、AI作画推广过程中，绘画创作行业产生激烈竞争，我会选择对这个行业避而远之',\n",
       "       '20、比起对于低成本，高效率的工作方法，我更倾向具有工匠精神的工作方法',\n",
       "       '21、在面对各种相互对立的想法时，我喜欢确定哪一种是做某件事情的正确方式和方法', '22、对于新事物，我喜欢去尝试和体验',\n",
       "       '23、请问您是否觉得此问卷有不足的地方或建议', '总分'],\n",
       "      dtype='object')"
      ]
     },
     "execution_count": 3,
     "metadata": {},
     "output_type": "execute_result"
    }
   ],
   "source": [
    "数据表.columns"
   ]
  },
  {
   "cell_type": "code",
   "execution_count": 4,
   "metadata": {},
   "outputs": [],
   "source": [
    "import sys\n",
    "sys.path.append('/pash/to/mytools')\n",
    "import mytools"
   ]
  },
  {
   "cell_type": "code",
   "execution_count": 5,
   "metadata": {},
   "outputs": [
    {
     "ename": "AttributeError",
     "evalue": "module 'mytools' has no attribute '两个无序类别变量的统计分析'",
     "output_type": "error",
     "traceback": [
      "\u001b[1;31m---------------------------------------------------------------------------\u001b[0m",
      "\u001b[1;31mAttributeError\u001b[0m                            Traceback (most recent call last)",
      "Cell \u001b[1;32mIn[5], line 1\u001b[0m\n\u001b[1;32m----> 1\u001b[0m \u001b[43mmytools\u001b[49m\u001b[38;5;241;43m.\u001b[39;49m\u001b[43m两个无序类别变量的统计分析\u001b[49m(数据表,\u001b[38;5;124m'\u001b[39m\u001b[38;5;124m喜欢绘画的程度\u001b[39m\u001b[38;5;124m'\u001b[39m, \u001b[38;5;124m'\u001b[39m\u001b[38;5;124m3,以下哪张图是传统绘画作品\u001b[39m\u001b[38;5;124m'\u001b[39m )\n",
      "\u001b[1;31mAttributeError\u001b[0m: module 'mytools' has no attribute '两个无序类别变量的统计分析'"
     ]
    }
   ],
   "source": [
    "mytools.两个无序类别变量的统计分析(数据表,'喜欢绘画的程度', '3,以下哪张图是传统绘画作品' )"
   ]
  },
  {
   "cell_type": "code",
   "execution_count": null,
   "metadata": {},
   "outputs": [
    {
     "ename": "AttributeError",
     "evalue": "module 'mytools' has no attribute '读取SPSS数据文件'",
     "output_type": "error",
     "traceback": [
      "\u001b[1;31m---------------------------------------------------------------------------\u001b[0m",
      "\u001b[1;31mAttributeError\u001b[0m                            Traceback (most recent call last)",
      "\u001b[1;32mc:\\Users\\sunyuedan\\Desktop\\syd\\双变量描述统计.ipynb 单元格 6\u001b[0m line \u001b[0;36m1\n\u001b[1;32m----> <a href='vscode-notebook-cell:/c%3A/Users/sunyuedan/Desktop/syd/%E5%8F%8C%E5%8F%98%E9%87%8F%E6%8F%8F%E8%BF%B0%E7%BB%9F%E8%AE%A1.ipynb#W4sZmlsZQ%3D%3D?line=0'>1</a>\u001b[0m 认同数据表 \u001b[39m=\u001b[39m mytools\u001b[39m.\u001b[39;49m读取SPSS数据文件(\u001b[39mR\u001b[39m\u001b[39m'\u001b[39m\u001b[39mdata\u001b[39m\u001b[39m\\\u001b[39m\u001b[39midentity.sav\u001b[39m\u001b[39m'\u001b[39m)\n",
      "\u001b[1;31mAttributeError\u001b[0m: module 'mytools' has no attribute '读取SPSS数据文件'"
     ]
    }
   ],
   "source": [
    "认同数据表 = mytools.读取SPSS数据文件(R'data\\identity.sav')"
   ]
  }
 ],
 "metadata": {
  "kernelspec": {
   "display_name": "Python 3",
   "language": "python",
   "name": "python3"
  },
  "language_info": {
   "codemirror_mode": {
    "name": "ipython",
    "version": 3
   },
   "file_extension": ".py",
   "mimetype": "text/x-python",
   "name": "python",
   "nbconvert_exporter": "python",
   "pygments_lexer": "ipython3",
   "version": "3.10.11"
  }
 },
 "nbformat": 4,
 "nbformat_minor": 2
}
