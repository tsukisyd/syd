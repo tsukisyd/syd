{
 "cells": [
  {
   "cell_type": "code",
   "execution_count": 6,
   "metadata": {},
   "outputs": [
    {
     "ename": "FileNotFoundError",
     "evalue": "[Errno 2] No such file or directory: '000_《统计与数据分析》课程第一次作业收集_提交统计.xlsx'",
     "output_type": "error",
     "traceback": [
      "\u001b[1;31m---------------------------------------------------------------------------\u001b[0m",
      "\u001b[1;31mFileNotFoundError\u001b[0m                         Traceback (most recent call last)",
      "\u001b[1;32mc:\\Users\\sunyuedan\\Desktop\\syd\\作业2.ipynb 单元格 1\u001b[0m line \u001b[0;36m9\n\u001b[0;32m      <a href='vscode-notebook-cell:/c%3A/Users/sunyuedan/Desktop/syd/%E4%BD%9C%E4%B8%9A2.ipynb#W0sZmlsZQ%3D%3D?line=5'>6</a>\u001b[0m 列名列表 \u001b[39m=\u001b[39m [\u001b[39m'\u001b[39m\u001b[39m姓名\u001b[39m\u001b[39m'\u001b[39m, \u001b[39m'\u001b[39m\u001b[39m学号\u001b[39m\u001b[39m'\u001b[39m, \u001b[39m'\u001b[39m\u001b[39mGithub仓库地址\u001b[39m\u001b[39m'\u001b[39m]  \u001b[39m# 替换为你要读取的列名列表\u001b[39;00m\n\u001b[0;32m      <a href='vscode-notebook-cell:/c%3A/Users/sunyuedan/Desktop/syd/%E4%BD%9C%E4%B8%9A2.ipynb#W0sZmlsZQ%3D%3D?line=7'>8</a>\u001b[0m \u001b[39m# 读取指定列数据\u001b[39;00m\n\u001b[1;32m----> <a href='vscode-notebook-cell:/c%3A/Users/sunyuedan/Desktop/syd/%E4%BD%9C%E4%B8%9A2.ipynb#W0sZmlsZQ%3D%3D?line=8'>9</a>\u001b[0m df \u001b[39m=\u001b[39m pd\u001b[39m.\u001b[39;49mread_excel(原始数据, sheet_name\u001b[39m=\u001b[39;49m工作表, usecols\u001b[39m=\u001b[39;49m列名列表)\n\u001b[0;32m     <a href='vscode-notebook-cell:/c%3A/Users/sunyuedan/Desktop/syd/%E4%BD%9C%E4%B8%9A2.ipynb#W0sZmlsZQ%3D%3D?line=10'>11</a>\u001b[0m \u001b[39m# 将数据转化为字典\u001b[39;00m\n\u001b[0;32m     <a href='vscode-notebook-cell:/c%3A/Users/sunyuedan/Desktop/syd/%E4%BD%9C%E4%B8%9A2.ipynb#W0sZmlsZQ%3D%3D?line=11'>12</a>\u001b[0m 学生信息 \u001b[39m=\u001b[39m df\u001b[39m.\u001b[39mto_dict(orient\u001b[39m=\u001b[39m\u001b[39m'\u001b[39m\u001b[39mrecords\u001b[39m\u001b[39m'\u001b[39m)\n",
      "File \u001b[1;32mc:\\Users\\sunyuedan\\AppData\\Local\\Programs\\Python\\Python310\\lib\\site-packages\\pandas\\io\\excel\\_base.py:504\u001b[0m, in \u001b[0;36mread_excel\u001b[1;34m(io, sheet_name, header, names, index_col, usecols, dtype, engine, converters, true_values, false_values, skiprows, nrows, na_values, keep_default_na, na_filter, verbose, parse_dates, date_parser, date_format, thousands, decimal, comment, skipfooter, storage_options, dtype_backend, engine_kwargs)\u001b[0m\n\u001b[0;32m    502\u001b[0m \u001b[39mif\u001b[39;00m \u001b[39mnot\u001b[39;00m \u001b[39misinstance\u001b[39m(io, ExcelFile):\n\u001b[0;32m    503\u001b[0m     should_close \u001b[39m=\u001b[39m \u001b[39mTrue\u001b[39;00m\n\u001b[1;32m--> 504\u001b[0m     io \u001b[39m=\u001b[39m ExcelFile(\n\u001b[0;32m    505\u001b[0m         io,\n\u001b[0;32m    506\u001b[0m         storage_options\u001b[39m=\u001b[39;49mstorage_options,\n\u001b[0;32m    507\u001b[0m         engine\u001b[39m=\u001b[39;49mengine,\n\u001b[0;32m    508\u001b[0m         engine_kwargs\u001b[39m=\u001b[39;49mengine_kwargs,\n\u001b[0;32m    509\u001b[0m     )\n\u001b[0;32m    510\u001b[0m \u001b[39melif\u001b[39;00m engine \u001b[39mand\u001b[39;00m engine \u001b[39m!=\u001b[39m io\u001b[39m.\u001b[39mengine:\n\u001b[0;32m    511\u001b[0m     \u001b[39mraise\u001b[39;00m \u001b[39mValueError\u001b[39;00m(\n\u001b[0;32m    512\u001b[0m         \u001b[39m\"\u001b[39m\u001b[39mEngine should not be specified when passing \u001b[39m\u001b[39m\"\u001b[39m\n\u001b[0;32m    513\u001b[0m         \u001b[39m\"\u001b[39m\u001b[39man ExcelFile - ExcelFile already has the engine set\u001b[39m\u001b[39m\"\u001b[39m\n\u001b[0;32m    514\u001b[0m     )\n",
      "File \u001b[1;32mc:\\Users\\sunyuedan\\AppData\\Local\\Programs\\Python\\Python310\\lib\\site-packages\\pandas\\io\\excel\\_base.py:1563\u001b[0m, in \u001b[0;36mExcelFile.__init__\u001b[1;34m(self, path_or_buffer, engine, storage_options, engine_kwargs)\u001b[0m\n\u001b[0;32m   1561\u001b[0m     ext \u001b[39m=\u001b[39m \u001b[39m\"\u001b[39m\u001b[39mxls\u001b[39m\u001b[39m\"\u001b[39m\n\u001b[0;32m   1562\u001b[0m \u001b[39melse\u001b[39;00m:\n\u001b[1;32m-> 1563\u001b[0m     ext \u001b[39m=\u001b[39m inspect_excel_format(\n\u001b[0;32m   1564\u001b[0m         content_or_path\u001b[39m=\u001b[39;49mpath_or_buffer, storage_options\u001b[39m=\u001b[39;49mstorage_options\n\u001b[0;32m   1565\u001b[0m     )\n\u001b[0;32m   1566\u001b[0m     \u001b[39mif\u001b[39;00m ext \u001b[39mis\u001b[39;00m \u001b[39mNone\u001b[39;00m:\n\u001b[0;32m   1567\u001b[0m         \u001b[39mraise\u001b[39;00m \u001b[39mValueError\u001b[39;00m(\n\u001b[0;32m   1568\u001b[0m             \u001b[39m\"\u001b[39m\u001b[39mExcel file format cannot be determined, you must specify \u001b[39m\u001b[39m\"\u001b[39m\n\u001b[0;32m   1569\u001b[0m             \u001b[39m\"\u001b[39m\u001b[39man engine manually.\u001b[39m\u001b[39m\"\u001b[39m\n\u001b[0;32m   1570\u001b[0m         )\n",
      "File \u001b[1;32mc:\\Users\\sunyuedan\\AppData\\Local\\Programs\\Python\\Python310\\lib\\site-packages\\pandas\\io\\excel\\_base.py:1419\u001b[0m, in \u001b[0;36minspect_excel_format\u001b[1;34m(content_or_path, storage_options)\u001b[0m\n\u001b[0;32m   1416\u001b[0m \u001b[39mif\u001b[39;00m \u001b[39misinstance\u001b[39m(content_or_path, \u001b[39mbytes\u001b[39m):\n\u001b[0;32m   1417\u001b[0m     content_or_path \u001b[39m=\u001b[39m BytesIO(content_or_path)\n\u001b[1;32m-> 1419\u001b[0m \u001b[39mwith\u001b[39;00m get_handle(\n\u001b[0;32m   1420\u001b[0m     content_or_path, \u001b[39m\"\u001b[39;49m\u001b[39mrb\u001b[39;49m\u001b[39m\"\u001b[39;49m, storage_options\u001b[39m=\u001b[39;49mstorage_options, is_text\u001b[39m=\u001b[39;49m\u001b[39mFalse\u001b[39;49;00m\n\u001b[0;32m   1421\u001b[0m ) \u001b[39mas\u001b[39;00m handle:\n\u001b[0;32m   1422\u001b[0m     stream \u001b[39m=\u001b[39m handle\u001b[39m.\u001b[39mhandle\n\u001b[0;32m   1423\u001b[0m     stream\u001b[39m.\u001b[39mseek(\u001b[39m0\u001b[39m)\n",
      "File \u001b[1;32mc:\\Users\\sunyuedan\\AppData\\Local\\Programs\\Python\\Python310\\lib\\site-packages\\pandas\\io\\common.py:872\u001b[0m, in \u001b[0;36mget_handle\u001b[1;34m(path_or_buf, mode, encoding, compression, memory_map, is_text, errors, storage_options)\u001b[0m\n\u001b[0;32m    863\u001b[0m         handle \u001b[39m=\u001b[39m \u001b[39mopen\u001b[39m(\n\u001b[0;32m    864\u001b[0m             handle,\n\u001b[0;32m    865\u001b[0m             ioargs\u001b[39m.\u001b[39mmode,\n\u001b[1;32m   (...)\u001b[0m\n\u001b[0;32m    868\u001b[0m             newline\u001b[39m=\u001b[39m\u001b[39m\"\u001b[39m\u001b[39m\"\u001b[39m,\n\u001b[0;32m    869\u001b[0m         )\n\u001b[0;32m    870\u001b[0m     \u001b[39melse\u001b[39;00m:\n\u001b[0;32m    871\u001b[0m         \u001b[39m# Binary mode\u001b[39;00m\n\u001b[1;32m--> 872\u001b[0m         handle \u001b[39m=\u001b[39m \u001b[39mopen\u001b[39;49m(handle, ioargs\u001b[39m.\u001b[39;49mmode)\n\u001b[0;32m    873\u001b[0m     handles\u001b[39m.\u001b[39mappend(handle)\n\u001b[0;32m    875\u001b[0m \u001b[39m# Convert BytesIO or file objects passed with an encoding\u001b[39;00m\n",
      "\u001b[1;31mFileNotFoundError\u001b[0m: [Errno 2] No such file or directory: '000_《统计与数据分析》课程第一次作业收集_提交统计.xlsx'"
     ]
    }
   ],
   "source": [
    "import pandas as pd\n",
    "\n",
    "# 读取Excel文件\n",
    "原始数据 = R'000_《统计与数据分析》课程第一次作业收集_提交统计.xlsx'\n",
    "工作表 = '提交清单'  # 替换为你要读取的工作表名称\n",
    "列名列表 = ['姓名', '学号', 'Github仓库地址']  # 替换为你要读取的列名列表\n",
    "\n",
    "# 读取指定列数据\n",
    "df = pd.read_excel(原始数据, sheet_name=工作表, usecols=列名列表)\n",
    "\n",
    "# 将数据转化为字典\n",
    "学生信息 = df.to_dict(orient='records')\n",
    "\n",
    "print(学生信息)"
   ]
  },
  {
   "cell_type": "code",
   "execution_count": null,
   "metadata": {},
   "outputs": [
    {
     "ename": "NameError",
     "evalue": "name '学生信息' is not defined",
     "output_type": "error",
     "traceback": [
      "\u001b[1;31m---------------------------------------------------------------------------\u001b[0m",
      "\u001b[1;31mNameError\u001b[0m                                 Traceback (most recent call last)",
      "\u001b[1;32mc:\\Users\\sunyuedan\\Desktop\\syd\\作业2.ipynb 单元格 2\u001b[0m line \u001b[0;36m1\n\u001b[1;32m----> <a href='vscode-notebook-cell:/c%3A/Users/sunyuedan/Desktop/syd/%E4%BD%9C%E4%B8%9A2.ipynb#W1sZmlsZQ%3D%3D?line=0'>1</a>\u001b[0m \u001b[39mfor\u001b[39;00m item \u001b[39min\u001b[39;00m 学生信息:\n\u001b[0;32m      <a href='vscode-notebook-cell:/c%3A/Users/sunyuedan/Desktop/syd/%E4%BD%9C%E4%B8%9A2.ipynb#W1sZmlsZQ%3D%3D?line=1'>2</a>\u001b[0m     \u001b[39mif\u001b[39;00m item[\u001b[39m\"\u001b[39m\u001b[39m姓名\u001b[39m\u001b[39m\"\u001b[39m] \u001b[39m==\u001b[39m \u001b[39m\"\u001b[39m\u001b[39m孙跃丹\u001b[39m\u001b[39m\"\u001b[39m:\n\u001b[0;32m      <a href='vscode-notebook-cell:/c%3A/Users/sunyuedan/Desktop/syd/%E4%BD%9C%E4%B8%9A2.ipynb#W1sZmlsZQ%3D%3D?line=2'>3</a>\u001b[0m         \u001b[39mprint\u001b[39m(item[\u001b[39m\"\u001b[39m\u001b[39mGithub仓库地址\u001b[39m\u001b[39m\"\u001b[39m])\n",
      "\u001b[1;31mNameError\u001b[0m: name '学生信息' is not defined"
     ]
    }
   ],
   "source": [
    "for item in 学生信息:\n",
    "    if item[\"姓名\"] == \"孙跃丹\":\n",
    "        print(item[\"Github仓库地址\"])"
   ]
  },
  {
   "cell_type": "code",
   "execution_count": null,
   "metadata": {},
   "outputs": [],
   "source": [
    "def get_github_url(student_id, student_list):\n",
    "    for student in student_list:\n",
    "        if student['学号'] == student_id:\n",
    "            return student['Github仓库地址']\n",
    "    return None"
   ]
  },
  {
   "cell_type": "code",
   "execution_count": null,
   "metadata": {},
   "outputs": [
    {
     "data": {
      "text/plain": [
       "'https://github.com/lanyirongacyl/statistic'"
      ]
     },
     "execution_count": 7,
     "metadata": {},
     "output_type": "execute_result"
    }
   ],
   "source": [
    "get_github_url('P221014511', 学生信息)"
   ]
  },
  {
   "cell_type": "code",
   "execution_count": null,
   "metadata": {},
   "outputs": [
    {
     "ename": "ModuleNotFoundError",
     "evalue": "No module named 'requests'",
     "output_type": "error",
     "traceback": [
      "\u001b[1;31m---------------------------------------------------------------------------\u001b[0m",
      "\u001b[1;31mModuleNotFoundError\u001b[0m                       Traceback (most recent call last)",
      "\u001b[1;32mc:\\Users\\sunyuedan\\Desktop\\syd\\作业2.ipynb 单元格 5\u001b[0m line \u001b[0;36m1\n\u001b[1;32m----> <a href='vscode-notebook-cell:/c%3A/Users/sunyuedan/Desktop/syd/%E4%BD%9C%E4%B8%9A2.ipynb#W4sZmlsZQ%3D%3D?line=0'>1</a>\u001b[0m \u001b[39mimport\u001b[39;00m \u001b[39mrequests\u001b[39;00m\n\u001b[0;32m      <a href='vscode-notebook-cell:/c%3A/Users/sunyuedan/Desktop/syd/%E4%BD%9C%E4%B8%9A2.ipynb#W4sZmlsZQ%3D%3D?line=1'>2</a>\u001b[0m \u001b[39mfrom\u001b[39;00m \u001b[39mdatetime\u001b[39;00m \u001b[39mimport\u001b[39;00m datetime\n\u001b[0;32m      <a href='vscode-notebook-cell:/c%3A/Users/sunyuedan/Desktop/syd/%E4%BD%9C%E4%B8%9A2.ipynb#W4sZmlsZQ%3D%3D?line=4'>5</a>\u001b[0m \u001b[39mdef\u001b[39;00m \u001b[39mget_push_count\u001b[39m(repo_url):\n\u001b[0;32m      <a href='vscode-notebook-cell:/c%3A/Users/sunyuedan/Desktop/syd/%E4%BD%9C%E4%B8%9A2.ipynb#W4sZmlsZQ%3D%3D?line=5'>6</a>\u001b[0m     \u001b[39m# 构造API请求URL\u001b[39;00m\n",
      "\u001b[1;31mModuleNotFoundError\u001b[0m: No module named 'requests'"
     ]
    }
   ],
   "source": [
    "import requests\n",
    "from datetime import datetime\n",
    "\n",
    "\n",
    "def get_push_count(repo_url):\n",
    "    # 构造API请求URL\n",
    "    api_url = repo_url.replace(\n",
    "        \"https://github.com/\", \"https://api.github.com/repos/\") + \"/commits\"\n",
    "    # 发送API请求\n",
    "    response = requests.get(api_url, verify=False)\n",
    "    # 解析API响应\n",
    "    data = response.json()\n",
    "    # 初始化推送次数和日期\n",
    "    push_count = 0\n",
    "    push_date = None\n",
    "    # 遍历每个提交记录\n",
    "    for commit in data:\n",
    "        # 获取提交时间\n",
    "        commit_time = datetime.strptime(\n",
    "            commit['commit']['committer']['date'], '%Y-%m-%dT%H:%M:%SZ')\n",
    "        # 判断是否为最近一次提交\n",
    "        if push_date is None or commit_time > push_date:\n",
    "            push_date = commit_time\n",
    "            push_count = 1\n",
    "        elif commit_time == push_date:\n",
    "            push_count += 1\n",
    "    # 返回推送次数和日期\n",
    "    return push_count, push_date.strftime(\"%Y-%m-%d\")"
   ]
  },
  {
   "cell_type": "code",
   "execution_count": null,
   "metadata": {},
   "outputs": [],
   "source": [
    "import requests\n",
    "from datetime import datetime\n",
    "\n",
    "\n",
    "def get_push_time(repo_url):\n",
    "    # 构造API请求URL\n",
    "    api_url = repo_url.replace(\n",
    "        \"https://github.com/\", \"https://api.github.com/repos/\") + \"/commits\"\n",
    "    # 发送API请求\n",
    "    response = requests.get(api_url, verify=False)\n",
    "    # 解析API响应\n",
    "    data = response.json()\n",
    "    # 初始化推送时间列表\n",
    "    push_times = []\n",
    "    # 遍历每个提交记录\n",
    "    for commit in data:\n",
    "        # 获取提交时间\n",
    "        commit_time = datetime.strptime(\n",
    "            commit['commit']['committer']['date'], '%Y-%m-%dT%H:%M:%SZ')\n",
    "        # 将推送时间添加到列表中\n",
    "        push_times.append(commit_time)\n",
    "    # 返回推送时间列表\n",
    "    return push_times"
   ]
  },
  {
   "cell_type": "code",
   "execution_count": null,
   "metadata": {},
   "outputs": [
    {
     "name": "stderr",
     "output_type": "stream",
     "text": [
      "c:\\Program Files\\Python38\\lib\\site-packages\\urllib3\\connectionpool.py:1095: InsecureRequestWarning: Unverified HTTPS request is being made to host 'api.github.com'. Adding certificate verification is strongly advised. See: https://urllib3.readthedocs.io/en/latest/advanced-usage.html#tls-warnings\n",
      "  warnings.warn(\n"
     ]
    },
    {
     "data": {
      "text/plain": [
       "(1, '2023-09-13')"
      ]
     },
     "execution_count": 16,
     "metadata": {},
     "output_type": "execute_result"
    }
   ],
   "source": [
    "get_push_count('https://github.com/lanyirongacyl/statistic')"
   ]
  },
  {
   "cell_type": "code",
   "execution_count": null,
   "metadata": {},
   "outputs": [
    {
     "name": "stderr",
     "output_type": "stream",
     "text": [
      "c:\\Program Files\\Python38\\lib\\site-packages\\urllib3\\connectionpool.py:1095: InsecureRequestWarning: Unverified HTTPS request is being made to host 'api.github.com'. Adding certificate verification is strongly advised. See: https://urllib3.readthedocs.io/en/latest/advanced-usage.html#tls-warnings\n",
      "  warnings.warn(\n"
     ]
    },
    {
     "data": {
      "text/plain": [
       "[datetime.datetime(2023, 9, 7, 4, 11, 3),\n",
       " datetime.datetime(2023, 9, 7, 2, 58, 50),\n",
       " datetime.datetime(2023, 9, 6, 2, 8, 52),\n",
       " datetime.datetime(2023, 9, 6, 2, 6, 46),\n",
       " datetime.datetime(2023, 8, 30, 2, 20, 58)]"
      ]
     },
     "execution_count": 14,
     "metadata": {},
     "output_type": "execute_result"
    }
   ],
   "source": [
    "get_push_time('https://github.com/yangjh-xbmu/statistic-2023-2')"
   ]
  },
  {
   "cell_type": "code",
   "execution_count": null,
   "metadata": {},
   "outputs": [
    {
     "name": "stderr",
     "output_type": "stream",
     "text": [
      "c:\\Program Files\\Python38\\lib\\site-packages\\urllib3\\connectionpool.py:1095: InsecureRequestWarning: Unverified HTTPS request is being made to host 'api.github.com'. Adding certificate verification is strongly advised. See: https://urllib3.readthedocs.io/en/latest/advanced-usage.html#tls-warnings\n",
      "  warnings.warn(\n"
     ]
    },
    {
     "ename": "TypeError",
     "evalue": "string indices must be integers",
     "output_type": "error",
     "traceback": [
      "\u001b[1;31m---------------------------------------------------------------------------\u001b[0m",
      "\u001b[1;31mTypeError\u001b[0m                                 Traceback (most recent call last)",
      "Cell \u001b[1;32mIn[17], line 1\u001b[0m\n\u001b[1;32m----> 1\u001b[0m get_push_time(\u001b[39m'\u001b[39;49m\u001b[39mhttps://github.com/yangjh-xbmu/ai\u001b[39;49m\u001b[39m'\u001b[39;49m)\n",
      "Cell \u001b[1;32mIn[13], line 16\u001b[0m, in \u001b[0;36mget_push_time\u001b[1;34m(repo_url)\u001b[0m\n\u001b[0;32m     13\u001b[0m \u001b[39m# 遍历每个提交记录\u001b[39;00m\n\u001b[0;32m     14\u001b[0m \u001b[39mfor\u001b[39;00m commit \u001b[39min\u001b[39;00m data:\n\u001b[0;32m     15\u001b[0m     \u001b[39m# 获取提交时间\u001b[39;00m\n\u001b[1;32m---> 16\u001b[0m     commit_time \u001b[39m=\u001b[39m datetime\u001b[39m.\u001b[39mstrptime(commit[\u001b[39m'\u001b[39;49m\u001b[39mcommit\u001b[39;49m\u001b[39m'\u001b[39;49m][\u001b[39m'\u001b[39m\u001b[39mcommitter\u001b[39m\u001b[39m'\u001b[39m][\u001b[39m'\u001b[39m\u001b[39mdate\u001b[39m\u001b[39m'\u001b[39m], \u001b[39m'\u001b[39m\u001b[39m%\u001b[39m\u001b[39mY-\u001b[39m\u001b[39m%\u001b[39m\u001b[39mm-\u001b[39m\u001b[39m%d\u001b[39;00m\u001b[39mT\u001b[39m\u001b[39m%\u001b[39m\u001b[39mH:\u001b[39m\u001b[39m%\u001b[39m\u001b[39mM:\u001b[39m\u001b[39m%\u001b[39m\u001b[39mSZ\u001b[39m\u001b[39m'\u001b[39m)\n\u001b[0;32m     17\u001b[0m     \u001b[39m# 将推送时间添加到列表中\u001b[39;00m\n\u001b[0;32m     18\u001b[0m     push_times\u001b[39m.\u001b[39mappend(commit_time)\n",
      "\u001b[1;31mTypeError\u001b[0m: string indices must be integers"
     ]
    }
   ],
   "source": [
    "get_push_time('https://github.com/yangjh-xbmu/ai')"
   ]
  }
 ],
 "metadata": {
  "kernelspec": {
   "display_name": "Python 3",
   "language": "python",
   "name": "python3"
  },
  "language_info": {
   "codemirror_mode": {
    "name": "ipython",
    "version": 3
   },
   "file_extension": ".py",
   "mimetype": "text/x-python",
   "name": "python",
   "nbconvert_exporter": "python",
   "pygments_lexer": "ipython3",
   "version": "3.10.11"
  },
  "orig_nbformat": 4
 },
 "nbformat": 4,
 "nbformat_minor": 2
}
